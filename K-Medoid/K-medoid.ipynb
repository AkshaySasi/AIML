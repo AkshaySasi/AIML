{
 "cells": [
  {
   "cell_type": "code",
   "execution_count": 1,
   "id": "447955b2",
   "metadata": {},
   "outputs": [],
   "source": [
    "import pandas as pd\n",
    "import numpy as np\n",
    "import random as rn\n",
    "import matplotlib.pyplot as plt"
   ]
  },
  {
   "cell_type": "code",
   "execution_count": 25,
   "id": "7c47a5c9",
   "metadata": {},
   "outputs": [
    {
     "name": "stdout",
     "output_type": "stream",
     "text": [
      "Dataset size\n",
      "Rows 150 Columns 5\n"
     ]
    }
   ],
   "source": [
    "data = pd.read_csv(r'C:\\ardhra\\Kmedoid\\iris.csv')\n",
    "print(\"Dataset size\")\n",
    "print(\"Rows {} Columns {}\".format(data.shape[0], data.shape[1]))"
   ]
  },
  {
   "cell_type": "code",
   "execution_count": 26,
   "id": "284898be",
   "metadata": {},
   "outputs": [],
   "source": [
    "df = data.copy()"
   ]
  },
  {
   "cell_type": "code",
   "execution_count": 27,
   "id": "947cb856",
   "metadata": {},
   "outputs": [],
   "source": [
    "x = data.iloc[:, :4].values"
   ]
  },
  {
   "cell_type": "code",
   "execution_count": 28,
   "id": "90d362fd",
   "metadata": {},
   "outputs": [],
   "source": [
    "def distance(x, y):\n",
    "    return np.linalg.norm(x - y)"
   ]
  },
  {
   "cell_type": "code",
   "execution_count": 29,
   "id": "2a98c9b0",
   "metadata": {},
   "outputs": [],
   "source": [
    "def initial_seeds_selection(x, k):\n",
    "    seeds = rn.sample(range(len(x)), k)\n",
    "    return [tuple(x[i]) for i in seeds]"
   ]
  },
  {
   "cell_type": "code",
   "execution_count": 30,
   "id": "6ec731a0",
   "metadata": {},
   "outputs": [],
   "source": [
    "def make_cluster(x, medoids):\n",
    "    cost = 0\n",
    "    clusters = {i: [] for i in range(len(medoids))}\n",
    "    \n",
    "    for point in x:\n",
    "        distances = [distance(point, medoid) for medoid in medoids]\n",
    "        min_distance = min(distances)\n",
    "        min_index = distances.index(min_distance)\n",
    "        \n",
    "        cost += min_distance\n",
    "        clusters[min_index].append(tuple(point))\n",
    "    \n",
    "    return clusters, cost"
   ]
  },
  {
   "cell_type": "code",
   "execution_count": 31,
   "id": "75860a04",
   "metadata": {},
   "outputs": [],
   "source": [
    "def kmedoids(x, k, maxiter):\n",
    "    medoids = initial_seeds_selection(x, k)\n",
    "    clusters, cost = make_cluster(x, medoids)\n",
    "    min_cost = cost\n",
    "    \n",
    "    for _ in range(maxiter):\n",
    "        swap_candidate = rn.choice(x)\n",
    "        \n",
    "        if swap_candidate not in medoids:\n",
    "            for i, medoid in enumerate(medoids):\n",
    "                temp = medoids.copy()\n",
    "                temp[i] = tuple(swap_candidate)\n",
    "                \n",
    "                new_clusters, new_cost = make_cluster(x, temp)\n",
    "                \n",
    "                if new_cost < min_cost:\n",
    "                    min_cost = new_cost\n",
    "                    clusters = new_clusters\n",
    "                    medoids = temp\n",
    "        else:\n",
    "            continue\n",
    "    \n",
    "    return clusters, medoids, min_cost"
   ]
  },
  {
   "cell_type": "code",
   "execution_count": 35,
   "id": "f3766690",
   "metadata": {},
   "outputs": [],
   "source": [
    "# Function for k-medoids algorithm\n",
    "def kmedoids(x, k, maxiter):\n",
    "    medoids = initial_seeds_selection(x, k)\n",
    "    clusters, cost = make_cluster(x, medoids)\n",
    "    min_cost = cost\n",
    "    \n",
    "    for _ in range(maxiter):\n",
    "        swap_candidate = rn.choice(x)\n",
    "        \n",
    "        # Check if the swap_candidate is in the list of medoids\n",
    "        if tuple(swap_candidate) not in medoids:\n",
    "            for i, medoid in enumerate(medoids):\n",
    "                temp = medoids.copy()\n",
    "                temp[i] = tuple(swap_candidate)\n",
    "                \n",
    "                new_clusters, new_cost = make_cluster(x, temp)\n",
    "                \n",
    "                if new_cost < min_cost:\n",
    "                    min_cost = new_cost\n",
    "                    clusters = new_clusters\n",
    "                    medoids = temp\n",
    "        else:\n",
    "            continue\n",
    "    \n",
    "    return clusters, medoids, min_cost\n"
   ]
  },
  {
   "cell_type": "code",
   "execution_count": 40,
   "id": "04c2c222",
   "metadata": {},
   "outputs": [],
   "source": [
    "def plot_clusters(x, clusters, medoids):\n",
    "    colors = ['r', 'g', 'b', 'c', 'm', 'y', 'k']\n",
    "    markers = ['o', 's', 'D', '^', 'v', '<', '>']\n",
    "\n",
    "    for i, (cluster, medoid) in enumerate(zip(clusters.values(), medoids)):\n",
    "        cluster_points = np.array(cluster)\n",
    "        plt.scatter(cluster_points[:, 0], cluster_points[:, 1], c=colors[i % len(colors)], marker=markers[i % len(markers)], label=f'Cluster {i + 1}')\n",
    "\n",
    "        # Plot medoid\n",
    "        plt.scatter(medoid[0], medoid[1], c='black', marker='x', s=100, label=f'Medoid {i + 1}')\n",
    "\n",
    "    plt.xlabel('Feature 1')\n",
    "    plt.ylabel('Feature 2')\n",
    "    plt.title('K-Medoids Clustering')\n",
    "    plt.legend()\n",
    "    plt.show()"
   ]
  },
  {
   "cell_type": "code",
   "execution_count": 52,
   "id": "8be0ac40",
   "metadata": {
    "scrolled": true
   },
   "outputs": [],
   "source": [
    "k_clusters = 3\n",
    "max_iterations = 100"
   ]
  },
  {
   "cell_type": "code",
   "execution_count": 53,
   "id": "61c114f5",
   "metadata": {},
   "outputs": [],
   "source": [
    "final_clusters, final_medoids, final_cost = kmedoids(x, k_clusters, max_iterations)\n"
   ]
  },
  {
   "cell_type": "code",
   "execution_count": 54,
   "id": "86e3d48a",
   "metadata": {},
   "outputs": [
    {
     "name": "stdout",
     "output_type": "stream",
     "text": [
      "Clusters:\n",
      "Cluster 1: [(7.0, 3.2, 4.7, 1.4), (6.9, 3.1, 4.9, 1.5), (6.8, 2.8, 4.8, 1.4), (6.7, 3.0, 5.0, 1.7), (6.0, 2.7, 5.1, 1.6), (6.7, 3.1, 4.7, 1.5), (6.3, 3.3, 6.0, 2.5), (5.8, 2.7, 5.1, 1.9), (7.1, 3.0, 5.9, 2.1), (6.3, 2.9, 5.6, 1.8), (6.5, 3.0, 5.8, 2.2), (7.6, 3.0, 6.6, 2.1), (7.3, 2.9, 6.3, 1.8), (6.7, 2.5, 5.8, 1.8), (7.2, 3.6, 6.1, 2.5), (6.5, 3.2, 5.1, 2.0), (6.4, 2.7, 5.3, 1.9), (6.8, 3.0, 5.5, 2.1), (5.8, 2.8, 5.1, 2.4), (6.4, 3.2, 5.3, 2.3), (6.5, 3.0, 5.5, 1.8), (7.7, 3.8, 6.7, 2.2), (7.7, 2.6, 6.9, 2.3), (6.9, 3.2, 5.7, 2.3), (7.7, 2.8, 6.7, 2.0), (6.3, 2.7, 4.9, 1.8), (6.7, 3.3, 5.7, 2.1), (7.2, 3.2, 6.0, 1.8), (6.2, 2.8, 4.8, 1.8), (6.1, 3.0, 4.9, 1.8), (6.4, 2.8, 5.6, 2.1), (7.2, 3.0, 5.8, 1.6), (7.4, 2.8, 6.1, 1.9), (7.9, 3.8, 6.4, 2.0), (6.4, 2.8, 5.6, 2.2), (6.3, 2.8, 5.1, 1.5), (6.1, 2.6, 5.6, 1.4), (7.7, 3.0, 6.1, 2.3), (6.3, 3.4, 5.6, 2.4), (6.4, 3.1, 5.5, 1.8), (6.9, 3.1, 5.4, 2.1), (6.7, 3.1, 5.6, 2.4), (6.9, 3.1, 5.1, 2.3), (5.8, 2.7, 5.1, 1.9), (6.8, 3.2, 5.9, 2.3), (6.7, 3.3, 5.7, 2.5), (6.7, 3.0, 5.2, 2.3), (6.3, 2.5, 5.0, 1.9), (6.5, 3.0, 5.2, 2.0), (6.2, 3.4, 5.4, 2.3), (5.9, 3.0, 5.1, 1.8)]\n",
      "Cluster 2: [(6.4, 3.2, 4.5, 1.5), (5.5, 2.3, 4.0, 1.3), (6.5, 2.8, 4.6, 1.5), (5.7, 2.8, 4.5, 1.3), (6.3, 3.3, 4.7, 1.6), (4.9, 2.4, 3.3, 1.0), (6.6, 2.9, 4.6, 1.3), (5.2, 2.7, 3.9, 1.4), (5.0, 2.0, 3.5, 1.0), (5.9, 3.0, 4.2, 1.5), (6.0, 2.2, 4.0, 1.0), (6.1, 2.9, 4.7, 1.4), (5.6, 2.9, 3.6, 1.3), (6.7, 3.1, 4.4, 1.4), (5.6, 3.0, 4.5, 1.5), (5.8, 2.7, 4.1, 1.0), (6.2, 2.2, 4.5, 1.5), (5.6, 2.5, 3.9, 1.1), (5.9, 3.2, 4.8, 1.8), (6.1, 2.8, 4.0, 1.3), (6.3, 2.5, 4.9, 1.5), (6.1, 2.8, 4.7, 1.2), (6.4, 2.9, 4.3, 1.3), (6.6, 3.0, 4.4, 1.4), (6.0, 2.9, 4.5, 1.5), (5.7, 2.6, 3.5, 1.0), (5.5, 2.4, 3.8, 1.1), (5.5, 2.4, 3.7, 1.0), (5.8, 2.7, 3.9, 1.2), (5.4, 3.0, 4.5, 1.5), (6.0, 3.4, 4.5, 1.6), (6.3, 2.3, 4.4, 1.3), (5.6, 3.0, 4.1, 1.3), (5.5, 2.5, 4.0, 1.3), (5.5, 2.6, 4.4, 1.2), (6.1, 3.0, 4.6, 1.4), (5.8, 2.6, 4.0, 1.2), (5.0, 2.3, 3.3, 1.0), (5.6, 2.7, 4.2, 1.3), (5.7, 3.0, 4.2, 1.2), (5.7, 2.9, 4.2, 1.3), (6.2, 2.9, 4.3, 1.3), (5.1, 2.5, 3.0, 1.1), (5.7, 2.8, 4.1, 1.3), (4.9, 2.5, 4.5, 1.7), (5.7, 2.5, 5.0, 2.0), (6.0, 2.2, 5.0, 1.5), (5.6, 2.8, 4.9, 2.0), (6.0, 3.0, 4.8, 1.8)]\n",
      "Cluster 3: [(5.1, 3.5, 1.4, 0.2), (4.9, 3.0, 1.4, 0.2), (4.7, 3.2, 1.3, 0.2), (4.6, 3.1, 1.5, 0.2), (5.0, 3.6, 1.4, 0.2), (5.4, 3.9, 1.7, 0.4), (4.6, 3.4, 1.4, 0.3), (5.0, 3.4, 1.5, 0.2), (4.4, 2.9, 1.4, 0.2), (4.9, 3.1, 1.5, 0.1), (5.4, 3.7, 1.5, 0.2), (4.8, 3.4, 1.6, 0.2), (4.8, 3.0, 1.4, 0.1), (4.3, 3.0, 1.1, 0.1), (5.8, 4.0, 1.2, 0.2), (5.7, 4.4, 1.5, 0.4), (5.4, 3.9, 1.3, 0.4), (5.1, 3.5, 1.4, 0.3), (5.7, 3.8, 1.7, 0.3), (5.1, 3.8, 1.5, 0.3), (5.4, 3.4, 1.7, 0.2), (5.1, 3.7, 1.5, 0.4), (4.6, 3.6, 1.0, 0.2), (5.1, 3.3, 1.7, 0.5), (4.8, 3.4, 1.9, 0.2), (5.0, 3.0, 1.6, 0.2), (5.0, 3.4, 1.6, 0.4), (5.2, 3.5, 1.5, 0.2), (5.2, 3.4, 1.4, 0.2), (4.7, 3.2, 1.6, 0.2), (4.8, 3.1, 1.6, 0.2), (5.4, 3.4, 1.5, 0.4), (5.2, 4.1, 1.5, 0.1), (5.5, 4.2, 1.4, 0.2), (4.9, 3.1, 1.5, 0.2), (5.0, 3.2, 1.2, 0.2), (5.5, 3.5, 1.3, 0.2), (4.9, 3.6, 1.4, 0.1), (4.4, 3.0, 1.3, 0.2), (5.1, 3.4, 1.5, 0.2), (5.0, 3.5, 1.3, 0.3), (4.5, 2.3, 1.3, 0.3), (4.4, 3.2, 1.3, 0.2), (5.0, 3.5, 1.6, 0.6), (5.1, 3.8, 1.9, 0.4), (4.8, 3.0, 1.4, 0.3), (5.1, 3.8, 1.6, 0.2), (4.6, 3.2, 1.4, 0.2), (5.3, 3.7, 1.5, 0.2), (5.0, 3.3, 1.4, 0.2)]\n"
     ]
    }
   ],
   "source": [
    "print(\"Clusters:\")\n",
    "for i, cluster in final_clusters.items():\n",
    "    print(f\"Cluster {i + 1}: {cluster}\")"
   ]
  },
  {
   "cell_type": "code",
   "execution_count": 55,
   "id": "482306a6",
   "metadata": {},
   "outputs": [
    {
     "name": "stdout",
     "output_type": "stream",
     "text": [
      "\n",
      "Final Medoids:\n",
      "[(6.8, 3.0, 5.5, 2.1), (5.7, 2.8, 4.1, 1.3), (5.1, 3.4, 1.5, 0.2)]\n",
      "\n",
      "Total Cost: 99.86572295898038\n"
     ]
    }
   ],
   "source": [
    "print(\"\\nFinal Medoids:\")\n",
    "print(final_medoids)\n",
    "\n",
    "print(\"\\nTotal Cost:\", final_cost)"
   ]
  },
  {
   "cell_type": "code",
   "execution_count": 56,
   "id": "09b90db9",
   "metadata": {},
   "outputs": [
    {
     "data": {
      "image/png": "[encoded data removed]",
      "text/plain": [
       "<Figure size 640x480 with 1 Axes>"
      ]
     },
     "metadata": {},
     "output_type": "display_data"
    }
   ],
   "source": [
    "plot_clusters(x, final_clusters, final_medoids)"
   ]
  },
  {
   "cell_type": "code",
   "execution_count": null,
   "id": "e6c0e81d",
   "metadata": {},
   "outputs": [],
   "source": []
  }
 ],
 "metadata": {
  "kernelspec": {
   "display_name": "Python 3 (ipykernel)",
   "language": "python",
   "name": "python3"
  },
  "language_info": {
   "codemirror_mode": {
    "name": "ipython",
    "version": 3
   },
   "file_extension": ".py",
   "mimetype": "text/x-python",
   "name": "python",
   "nbconvert_exporter": "python",
   "pygments_lexer": "ipython3",
   "version": "3.11.4"
  }
 },
 "nbformat": 4,
 "nbformat_minor": 5
}
