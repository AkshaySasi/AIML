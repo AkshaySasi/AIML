{
 "cells": [
  {
   "cell_type": "code",
   "execution_count": 1,
   "id": "4c7d2509",
   "metadata": {},
   "outputs": [],
   "source": [
    "import pandas as pd\n",
    "import numpy as np\n",
    "from sklearn.linear_model import LogisticRegression\n",
    "import time"
   ]
  },
  {
   "cell_type": "code",
   "execution_count": 2,
   "id": "7d26892e",
   "metadata": {},
   "outputs": [],
   "source": [
    "data = pd.read_csv(r'C:\\Users\\user\\Desktop\\ANJALI RAJ\\PERCEPTRON XOR\\WA_Fn-UseC_-Telco-Customer-Churn.csv')"
   ]
  },
  {
   "cell_type": "code",
   "execution_count": 3,
   "id": "77ce90f6",
   "metadata": {},
   "outputs": [],
   "source": [
    "df = data.copy()"
   ]
  },
  {
   "cell_type": "code",
   "execution_count": 4,
   "id": "8a5705c5",
   "metadata": {},
   "outputs": [],
   "source": [
    "df['class'] = df['Churn'].apply(lambda x : 1 if x == \"Yes\" else 0)\n",
    "# features will be saved as X and our target will be saved as y\n",
    "X = df[['tenure','MonthlyCharges']].copy()\n",
    "X2 = df[['tenure','MonthlyCharges']].copy()\n",
    "y = df['class'].copy()"
   ]
  },
  {
   "cell_type": "code",
   "execution_count": 5,
   "id": "2eef80b9",
   "metadata": {},
   "outputs": [
    {
     "name": "stdout",
     "output_type": "stream",
     "text": [
      "Training time (sklearn's LogisticRegression module):0.04342818260192871 seconds\n",
      "Learning rate: 0.1\n",
      "Iteration: 100000\n"
     ]
    }
   ],
   "source": [
    "start_time = time.time()\n",
    "num_iter = 100000\n",
    "clf = LogisticRegression(fit_intercept=True, max_iter=100000)\n",
    "clf.fit(df[['tenure','MonthlyCharges']], y)\n",
    "print(\"Training time (sklearn's LogisticRegression module):\" + str(time.time() - start_time) + \" seconds\")\n",
    "print(\"Learning rate: {}\\nIteration: {}\".format(0.1, num_iter))"
   ]
  },
  {
   "cell_type": "code",
   "execution_count": 6,
   "id": "2d14a0a0",
   "metadata": {},
   "outputs": [],
   "source": [
    "result3 = clf.predict(df[['tenure','MonthlyCharges']])"
   ]
  },
  {
   "cell_type": "code",
   "execution_count": 7,
   "id": "6d05bec1",
   "metadata": {},
   "outputs": [
    {
     "name": "stdout",
     "output_type": "stream",
     "text": [
      "Accuracy (sklearn's Logistic Regression):\n"
     ]
    },
    {
     "data": {
      "text/plain": [
       "78.44668465142695"
      ]
     },
     "execution_count": 7,
     "metadata": {},
     "output_type": "execute_result"
    }
   ],
   "source": [
    "print(\"Accuracy (sklearn's Logistic Regression):\")\n",
    "f3 = pd.DataFrame(result3).join(y)\n",
    "f3.loc[f3[0]==f3['class']].shape[0] / f3.shape[0] * 100"
   ]
  },
  {
   "cell_type": "code",
   "execution_count": null,
   "id": "774a6d8c",
   "metadata": {},
   "outputs": [],
   "source": []
  }
 ],
 "metadata": {
  "kernelspec": {
   "display_name": "Python 3 (ipykernel)",
   "language": "python",
   "name": "python3"
  },
  "language_info": {
   "codemirror_mode": {
    "name": "ipython",
    "version": 3
   },
   "file_extension": ".py",
   "mimetype": "text/x-python",
   "name": "python",
   "nbconvert_exporter": "python",
   "pygments_lexer": "ipython3",
   "version": "3.11.5"
  }
 },
 "nbformat": 4,
 "nbformat_minor": 5
}
