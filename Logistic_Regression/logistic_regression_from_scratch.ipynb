{
 "cells": [
  {
   "cell_type": "code",
   "execution_count": 1,
   "id": "9f598c7d",
   "metadata": {},
   "outputs": [
    {
     "data": {
      "text/html": [
       "        <script type=\"text/javascript\">\n",
       "        window.PlotlyConfig = {MathJaxConfig: 'local'};\n",
       "        if (window.MathJax && window.MathJax.Hub && window.MathJax.Hub.Config) {window.MathJax.Hub.Config({SVG: {font: \"STIX-Web\"}});}\n",
       "        if (typeof require !== 'undefined') {\n",
       "        require.undef(\"plotly\");\n",
       "        requirejs.config({\n",
       "            paths: {\n",
       "                'plotly': ['https://cdn.plot.ly/plotly-2.12.1.min']\n",
       "            }\n",
       "        });\n",
       "        require(['plotly'], function(Plotly) {\n",
       "            window._Plotly = Plotly;\n",
       "        });\n",
       "        }\n",
       "        </script>\n",
       "        "
      ]
     },
     "metadata": {},
     "output_type": "display_data"
    }
   ],
   "source": [
    "import pandas as pd\n",
    "import numpy as np\n",
    "import matplotlib.pyplot as plt\n",
    "from plotly.offline import download_plotlyjs, init_notebook_mode, plot, iplot\n",
    "import plotly as py\n",
    "import plotly.graph_objs as go\n",
    "import time\n",
    "\n",
    "init_notebook_mode(connected=True)   "
   ]
  },
  {
   "cell_type": "code",
   "execution_count": 2,
   "id": "ac9397ca",
   "metadata": {},
   "outputs": [],
   "source": [
    "def sigmoid(X, weight):\n",
    "    z = np.dot(X, weight)\n",
    "    return 1 / (1 + np.exp(-z))"
   ]
  },
  {
   "cell_type": "code",
   "execution_count": 3,
   "id": "221779a5",
   "metadata": {},
   "outputs": [],
   "source": [
    "def loss(h, y):\n",
    "    return (-y * np.log(h) - (1 - y) * np.log(1 - h)).mean()"
   ]
  },
  {
   "cell_type": "code",
   "execution_count": 4,
   "id": "27dde941",
   "metadata": {},
   "outputs": [],
   "source": [
    "def gradient_descent(X, h, y):\n",
    "    return np.dot(X.T, (h - y)) / y.shape[0]\n",
    "def update_weight_loss(weight, learning_rate, gradient):\n",
    "    return weight - learning_rate * gradient"
   ]
  },
  {
   "cell_type": "code",
   "execution_count": 5,
   "id": "e2e2a8d6",
   "metadata": {},
   "outputs": [],
   "source": [
    "def log_likelihood(x, y, weights):\n",
    "    z = np.dot(x, weights)\n",
    "    ll = np.sum( y*z - np.log(1 + np.exp(z)) )\n",
    "    return ll"
   ]
  },
  {
   "cell_type": "code",
   "execution_count": 6,
   "id": "b6ae48ed",
   "metadata": {},
   "outputs": [],
   "source": [
    "def gradient_ascent(X, h, y):\n",
    "    return np.dot(X.T, y - h)\n",
    "def update_weight_mle(weight, learning_rate, gradient):\n",
    "    return weight + learning_rate * gradient"
   ]
  },
  {
   "cell_type": "code",
   "execution_count": 7,
   "id": "6aaaf113",
   "metadata": {},
   "outputs": [
    {
     "name": "stdout",
     "output_type": "stream",
     "text": [
      "Dataset size\n",
      "Rows 7043 Columns 21\n"
     ]
    }
   ],
   "source": [
    "data = pd.read_csv(r'C:\\Users\\user\\Desktop\\ANJALI RAJ\\PERCEPTRON XOR\\WA_Fn-UseC_-Telco-Customer-Churn.csv')\n",
    "print(\"Dataset size\")\n",
    "print(\"Rows {} Columns {}\".format(data.shape[0], data.shape[1]))"
   ]
  },
  {
   "cell_type": "code",
   "execution_count": 8,
   "id": "7a3462fd",
   "metadata": {},
   "outputs": [
    {
     "name": "stdout",
     "output_type": "stream",
     "text": [
      "Columns and data types\n"
     ]
    },
    {
     "data": {
      "text/html": [
       "<div>\n",
       "<style scoped>\n",
       "    .dataframe tbody tr th:only-of-type {\n",
       "        vertical-align: middle;\n",
       "    }\n",
       "\n",
       "    .dataframe tbody tr th {\n",
       "        vertical-align: top;\n",
       "    }\n",
       "\n",
       "    .dataframe thead th {\n",
       "        text-align: right;\n",
       "    }\n",
       "</style>\n",
       "<table border=\"1\" class=\"dataframe\">\n",
       "  <thead>\n",
       "    <tr style=\"text-align: right;\">\n",
       "      <th></th>\n",
       "      <th>dtype</th>\n",
       "    </tr>\n",
       "  </thead>\n",
       "  <tbody>\n",
       "    <tr>\n",
       "      <th>customerID</th>\n",
       "      <td>object</td>\n",
       "    </tr>\n",
       "    <tr>\n",
       "      <th>gender</th>\n",
       "      <td>object</td>\n",
       "    </tr>\n",
       "    <tr>\n",
       "      <th>SeniorCitizen</th>\n",
       "      <td>int64</td>\n",
       "    </tr>\n",
       "    <tr>\n",
       "      <th>Partner</th>\n",
       "      <td>object</td>\n",
       "    </tr>\n",
       "    <tr>\n",
       "      <th>Dependents</th>\n",
       "      <td>object</td>\n",
       "    </tr>\n",
       "    <tr>\n",
       "      <th>tenure</th>\n",
       "      <td>int64</td>\n",
       "    </tr>\n",
       "    <tr>\n",
       "      <th>PhoneService</th>\n",
       "      <td>object</td>\n",
       "    </tr>\n",
       "    <tr>\n",
       "      <th>MultipleLines</th>\n",
       "      <td>object</td>\n",
       "    </tr>\n",
       "    <tr>\n",
       "      <th>InternetService</th>\n",
       "      <td>object</td>\n",
       "    </tr>\n",
       "    <tr>\n",
       "      <th>OnlineSecurity</th>\n",
       "      <td>object</td>\n",
       "    </tr>\n",
       "    <tr>\n",
       "      <th>OnlineBackup</th>\n",
       "      <td>object</td>\n",
       "    </tr>\n",
       "    <tr>\n",
       "      <th>DeviceProtection</th>\n",
       "      <td>object</td>\n",
       "    </tr>\n",
       "    <tr>\n",
       "      <th>TechSupport</th>\n",
       "      <td>object</td>\n",
       "    </tr>\n",
       "    <tr>\n",
       "      <th>StreamingTV</th>\n",
       "      <td>object</td>\n",
       "    </tr>\n",
       "    <tr>\n",
       "      <th>StreamingMovies</th>\n",
       "      <td>object</td>\n",
       "    </tr>\n",
       "    <tr>\n",
       "      <th>Contract</th>\n",
       "      <td>object</td>\n",
       "    </tr>\n",
       "    <tr>\n",
       "      <th>PaperlessBilling</th>\n",
       "      <td>object</td>\n",
       "    </tr>\n",
       "    <tr>\n",
       "      <th>PaymentMethod</th>\n",
       "      <td>object</td>\n",
       "    </tr>\n",
       "    <tr>\n",
       "      <th>MonthlyCharges</th>\n",
       "      <td>float64</td>\n",
       "    </tr>\n",
       "    <tr>\n",
       "      <th>TotalCharges</th>\n",
       "      <td>object</td>\n",
       "    </tr>\n",
       "    <tr>\n",
       "      <th>Churn</th>\n",
       "      <td>object</td>\n",
       "    </tr>\n",
       "  </tbody>\n",
       "</table>\n",
       "</div>"
      ],
      "text/plain": [
       "                    dtype\n",
       "customerID         object\n",
       "gender             object\n",
       "SeniorCitizen       int64\n",
       "Partner            object\n",
       "Dependents         object\n",
       "tenure              int64\n",
       "PhoneService       object\n",
       "MultipleLines      object\n",
       "InternetService    object\n",
       "OnlineSecurity     object\n",
       "OnlineBackup       object\n",
       "DeviceProtection   object\n",
       "TechSupport        object\n",
       "StreamingTV        object\n",
       "StreamingMovies    object\n",
       "Contract           object\n",
       "PaperlessBilling   object\n",
       "PaymentMethod      object\n",
       "MonthlyCharges    float64\n",
       "TotalCharges       object\n",
       "Churn              object"
      ]
     },
     "execution_count": 8,
     "metadata": {},
     "output_type": "execute_result"
    }
   ],
   "source": [
    "print(\"Columns and data types\")\n",
    "pd.DataFrame(data.dtypes).rename(columns = {0:'dtype'})"
   ]
  },
  {
   "cell_type": "code",
   "execution_count": 9,
   "id": "99bdd857",
   "metadata": {},
   "outputs": [],
   "source": [
    "df = data.copy()"
   ]
  },
  {
   "cell_type": "code",
   "execution_count": 10,
   "id": "4bac34c7",
   "metadata": {},
   "outputs": [],
   "source": [
    "df['class'] = df['Churn'].apply(lambda x : 1 if x == \"Yes\" else 0)\n",
    "# features will be saved as X and our target will be saved as y\n",
    "X = df[['tenure','MonthlyCharges']].copy()\n",
    "X2 = df[['tenure','MonthlyCharges']].copy()\n",
    "y = df['class'].copy()"
   ]
  },
  {
   "cell_type": "code",
   "execution_count": null,
   "id": "4a67c7bc",
   "metadata": {},
   "outputs": [],
   "source": [
    "start_time = time.time()\n",
    "\n",
    "num_iter = 100000\n",
    "\n",
    "intercept = np.ones((X.shape[0], 1)) \n",
    "X = np.concatenate((intercept, X), axis=1)\n",
    "theta = np.zeros(X.shape[1])\n",
    "\n",
    "for i in range(num_iter):\n",
    "    h = sigmoid(X, theta)\n",
    "    gradient = gradient_descent(X, h, y)\n",
    "    theta = update_weight_loss(theta, 0.1, gradient)\n",
    "    \n",
    "print(\"Training time (Log Reg using Gradient descent):\" + str(time.time() - start_time) + \" seconds\")\n",
    "print(\"Learning rate: {}\\nIteration: {}\".format(0.1, num_iter))"
   ]
  },
  {
   "cell_type": "code",
   "execution_count": null,
   "id": "3c691a30",
   "metadata": {},
   "outputs": [],
   "source": [
    "result = sigmoid(X, theta)"
   ]
  },
  {
   "cell_type": "code",
   "execution_count": 13,
   "id": "afa834b4",
   "metadata": {},
   "outputs": [
    {
     "name": "stdout",
     "output_type": "stream",
     "text": [
      "Accuracy (Loss minimization):\n"
     ]
    },
    {
     "data": {
      "text/plain": [
       "78.36149368166974"
      ]
     },
     "execution_count": 13,
     "metadata": {},
     "output_type": "execute_result"
    }
   ],
   "source": [
    "f = pd.DataFrame(np.around(result, decimals=6)).join(y)\n",
    "f['pred'] = f[0].apply(lambda x : 0 if x < 0.5 else 1)\n",
    "print(\"Accuracy (Loss minimization):\")\n",
    "f.loc[f['pred']==f['class']].shape[0] / f.shape[0] * 100"
   ]
  },
  {
   "cell_type": "code",
   "execution_count": null,
   "id": "64db24f2",
   "metadata": {},
   "outputs": [
    {
     "name": "stderr",
     "output_type": "stream",
     "text": [
      "C:\\Users\\user\\AppData\\Local\\Temp\\ipykernel_5840\\2745927695.py:3: RuntimeWarning:\n",
      "\n",
      "overflow encountered in exp\n",
      "\n"
     ]
    }
   ],
   "source": [
    "start_time = time.time()\n",
    "num_iter = 100000\n",
    "\n",
    "intercept2 = np.ones((X2.shape[0], 1))\n",
    "X2 = np.concatenate((intercept2, X2), axis=1)\n",
    "theta2 = np.zeros(X2.shape[1])\n",
    "\n",
    "for i in range(num_iter):\n",
    "    h2 = sigmoid(X2, theta2)\n",
    "    gradient2 = gradient_ascent(X2, h2, y) #np.dot(X.T, (h - y)) / y.size\n",
    "    theta2 = update_weight_mle(theta2, 0.1, gradient2)\n",
    "    \n",
    "print(\"Training time (Log Reg using MLE):\" + str(time.time() - start_time) + \"seconds\")\n",
    "print(\"Learning rate: {}\\nIteration: {}\".format(0.1, num_iter))"
   ]
  },
  {
   "cell_type": "code",
   "execution_count": null,
   "id": "c58b6d86",
   "metadata": {},
   "outputs": [],
   "source": [
    "result2 = sigmoid(X2, theta2)"
   ]
  },
  {
   "cell_type": "code",
   "execution_count": null,
   "id": "41be3fd5",
   "metadata": {},
   "outputs": [],
   "source": [
    "print(\"Accuracy (Maximum Likelihood Estimation):\")\n",
    "f2 = pd.DataFrame(result2).join(y)\n",
    "f2.loc[f2[0]==f2['class']].shape[0] / f2.shape[0] * 100"
   ]
  },
  {
   "cell_type": "code",
   "execution_count": null,
   "id": "9ec34b07",
   "metadata": {},
   "outputs": [],
   "source": []
  }
 ],
 "metadata": {
  "kernelspec": {
   "display_name": "Python 3 (ipykernel)",
   "language": "python",
   "name": "python3"
  },
  "language_info": {
   "codemirror_mode": {
    "name": "ipython",
    "version": 3
   },
   "file_extension": ".py",
   "mimetype": "text/x-python",
   "name": "python",
   "nbconvert_exporter": "python",
   "pygments_lexer": "ipython3",
   "version": "3.11.5"
  }
 },
 "nbformat": 4,
 "nbformat_minor": 5
}
