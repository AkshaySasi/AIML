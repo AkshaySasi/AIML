{
 "cells": [
  {
   "cell_type": "code",
   "execution_count": 21,
   "id": "8c0840cb",
   "metadata": {},
   "outputs": [],
   "source": [
    "import numpy as np\n",
    "import pandas as pd\n",
    "from sklearn.metrics import confusion_matrix, accuracy_score, classification_report\n",
    "from sklearn.model_selection import train_test_split\n",
    "from sklearn.tree import DecisionTreeClassifier\n",
    "from sklearn.preprocessing import OneHotEncoder, LabelEncoder\n",
    "from sklearn.compose import ColumnTransformer"
   ]
  },
  {
   "cell_type": "code",
   "execution_count": 24,
   "id": "5279a210",
   "metadata": {},
   "outputs": [
    {
     "name": "stdout",
     "output_type": "stream",
     "text": [
      "Dataset Length:  15\n",
      "Dataset Shape:  (15, 5)\n",
      "\n",
      "Dataset: \n",
      "        0       1        2              3              4\n",
      "0    age  income  student  credit rating  buys computer\n",
      "1   <=30    high       no           fair             no\n",
      "2   <=30    high       no      excellent             no\n",
      "3  31-40    high       no           fair            yes\n",
      "4    >40  medium       no           fair            yes\n",
      "\n"
     ]
    }
   ],
   "source": [
    "# Import Dataset\n",
    "df = pd.read_csv(r\"C:\\Users\\91830\\Desktop\\DUK\\AIML\\DT\\classifierdata.csv\",\n",
    "                           sep=',', header=None)\n",
    "\n",
    "# Printing the dataset shape\n",
    "print(\"Dataset Length: \", len(df))\n",
    "print(\"Dataset Shape: \", df.shape)\n",
    "print(\"\")\n",
    "\n",
    "# Printing the dataset observations\n",
    "print(\"Dataset: \\n\", df.head())\n",
    "print(\"\")\n"
   ]
  },
  {
   "cell_type": "code",
   "execution_count": 26,
   "id": "17dbf8ce",
   "metadata": {},
   "outputs": [],
   "source": [
    "# Separating the target variable\n",
    "X = df.iloc[:, 1:]\n",
    "y = df.iloc[:, 0]\n",
    "\n",
    "# Convert target variable to numeric using LabelEncoder\n",
    "enc = LabelEncoder()\n",
    "y = enc.fit_transform(y)\n",
    "\n",
    "# Use one-hot encoding for all categorical features\n",
    "categorical_cols = [0, 1, 2, 3]  # assuming all columns are categorical\n",
    "encoder = ColumnTransformer(transformers=[(\"OneHot\", OneHotEncoder(), categorical_cols)], remainder='passthrough')\n",
    "X_encoded = encoder.fit_transform(X)"
   ]
  },
  {
   "cell_type": "code",
   "execution_count": 28,
   "id": "441e30d6",
   "metadata": {},
   "outputs": [
    {
     "data": {
      "text/plain": [
       "DecisionTreeClassifier(criterion='entropy', max_depth=3, min_samples_leaf=5,\n",
       "                       random_state=100)"
      ]
     },
     "execution_count": 28,
     "metadata": {},
     "output_type": "execute_result"
    }
   ],
   "source": [
    "# Splitting the dataset into train and test\n",
    "X_train, X_test, y_train, y_test = train_test_split(X_encoded, y, test_size=0.3, random_state=100)\n",
    "\n",
    "# Train using Gini index\n",
    "clf_gini = DecisionTreeClassifier(criterion=\"gini\", random_state=100,\n",
    "                                  max_depth=3, min_samples_leaf=5)\n",
    "clf_gini.fit(X_train, y_train)\n",
    "\n",
    "# Train using entropy\n",
    "clf_entropy = DecisionTreeClassifier(criterion=\"entropy\", random_state=100,\n",
    "                                     max_depth=3, min_samples_leaf=5)\n",
    "clf_entropy.fit(X_train, y_train)\n"
   ]
  },
  {
   "cell_type": "code",
   "execution_count": 34,
   "id": "a252e80f",
   "metadata": {},
   "outputs": [
    {
     "name": "stdout",
     "output_type": "stream",
     "text": [
      "Predicted values using Entropy:\n",
      "['31-40' '31-40' '>40' '31-40' '31-40']\n",
      "\n",
      "Predicted values using Gini Index:\n",
      "['31-40' '31-40' '>40' '31-40' '31-40']\n",
      "\n"
     ]
    }
   ],
   "source": [
    "# Results Using Entropy\n",
    "y_pred_entropy = clf_entropy.predict(X_test)\n",
    "print(\"Predicted values using Information Gain:\")\n",
    "print(enc.inverse_transform(y_pred_entropy))  # Convert back to original labels for readability\n",
    "print(\"\")\n",
    "\n",
    "# Results Using Gini Index\n",
    "y_pred_gini = clf_gini.predict(X_test)\n",
    "print(\"Predicted values using Gini Index:\")\n",
    "print(enc.inverse_transform(y_pred_gini))  # Convert back to original labels for readability\n",
    "print(\"\")"
   ]
  },
  {
   "cell_type": "code",
   "execution_count": 37,
   "id": "060ca997",
   "metadata": {},
   "outputs": [
    {
     "name": "stdout",
     "output_type": "stream",
     "text": [
      "Information Gain\n",
      "******************\n",
      "Confusion Matrix (IG): \n",
      " [[1 0 1]\n",
      " [2 0 0]\n",
      " [1 0 0]]\n",
      "Accuracy (IG):  20.0\n",
      "Report (IG): \n",
      "               precision    recall  f1-score   support\n",
      "\n",
      "           0       0.25      0.50      0.33         2\n",
      "           1       1.00      0.00      0.00         2\n",
      "           2       0.00      0.00      0.00         1\n",
      "\n",
      "    accuracy                           0.20         5\n",
      "   macro avg       0.42      0.17      0.11         5\n",
      "weighted avg       0.50      0.20      0.13         5\n",
      "\n",
      "\n",
      "Gini Index \n",
      "*************\n",
      "Confusion Matrix (Gini): \n",
      " [[1 0 1]\n",
      " [2 0 0]\n",
      " [1 0 0]]\n",
      "\n",
      "Accuracy (Gini):  20.0\n",
      "Report (Gini): \n",
      "               precision    recall  f1-score   support\n",
      "\n",
      "           0       0.25      0.50      0.33         2\n",
      "           1       1.00      0.00      0.00         2\n",
      "           2       0.00      0.00      0.00         1\n",
      "\n",
      "    accuracy                           0.20         5\n",
      "   macro avg       0.42      0.17      0.11         5\n",
      "weighted avg       0.50      0.20      0.13         5\n",
      "\n",
      "\n"
     ]
    }
   ],
   "source": [
    "# Calculate accuracy using Entropy\n",
    "print(\"Information Gain\")\n",
    "print(\"******************\")\n",
    "print(\"Confusion Matrix (IG): \\n\", confusion_matrix(y_test, y_pred_entropy))\n",
    "print(\"Accuracy (IG): \", accuracy_score(y_test, y_pred_entropy) * 100)\n",
    "print(\"Report (IG): \\n\", classification_report(y_test, y_pred_entropy, zero_division=1))\n",
    "print(\"\")\n",
    "\n",
    "# Calculate accuracy using Gini Index\n",
    "print(\"Gini Index \")\n",
    "print(\"*************\")\n",
    "print(\"Confusion Matrix (Gini): \\n\", confusion_matrix(y_test, y_pred_gini))\n",
    "print(\"\")\n",
    "print(\"Accuracy (Gini): \", accuracy_score(y_test, y_pred_gini) * 100)\n",
    "print(\"Report (Gini): \\n\", classification_report(y_test, y_pred_gini, zero_division=1))\n",
    "print(\"\")"
   ]
  }
 ],
 "metadata": {
  "kernelspec": {
   "display_name": "Python 3",
   "language": "python",
   "name": "python3"
  },
  "language_info": {
   "codemirror_mode": {
    "name": "ipython",
    "version": 3
   },
   "file_extension": ".py",
   "mimetype": "text/x-python",
   "name": "python",
   "nbconvert_exporter": "python",
   "pygments_lexer": "ipython3",
   "version": "3.6.8"
  }
 },
 "nbformat": 4,
 "nbformat_minor": 5
}
